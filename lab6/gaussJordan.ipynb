{
 "cells": [
  {
   "cell_type": "code",
   "execution_count": 1,
   "id": "25225dc3-86fe-4b1c-ba7a-3dc29dfe114d",
   "metadata": {},
   "outputs": [
    {
     "name": "stdout",
     "output_type": "stream",
     "text": [
      "Solution:\n",
      "x1 = -3.9613\n",
      "x2 = 0.5259\n",
      "x3 = 0.5149\n",
      "x4 = 6.5703\n"
     ]
    }
   ],
   "source": [
    "def gauss_jordan():\n",
    "    A = [\n",
    "        [0.02, 5.52, 2.07, 0.93, 10],\n",
    "        [8.49, 8.45, 5.44, 7.06, 20],\n",
    "        [77.89, 32.56, 40.67, 43.45, 15],\n",
    "        [9.22, 40.81, -143.45, 17.34, 25]\n",
    "    ]\n",
    "\n",
    "    n = len(A)\n",
    "\n",
    "    # Gauss-Jordan Elimination\n",
    "    for j in range(n):\n",
    "        if abs(A[j][j]) < 0.0005:\n",
    "            print(\"Error: Zero pivot encountered.\")\n",
    "            return\n",
    "\n",
    "        # Make other elements in column j zero\n",
    "        for i in range(n):\n",
    "            if i != j:\n",
    "                r = A[i][j] / A[j][j]\n",
    "                for k in range(n + 1):\n",
    "                    A[i][k] = A[i][k] - r * A[j][k]\n",
    "\n",
    "    # Normalize diagonal elements to 1 and extract solution\n",
    "    x = [0] * n\n",
    "    for i in range(n):\n",
    "        x[i] = A[i][n] / A[i][i]\n",
    "\n",
    "    # Print solution\n",
    "    print(\"Solution:\")\n",
    "    for i in range(n):\n",
    "        print(f\"x{i + 1} = {x[i]:.4f}\")\n",
    "\n",
    "gauss_jordan()\n"
   ]
  },
  {
   "cell_type": "code",
   "execution_count": null,
   "id": "0850c852-895d-4ca9-a662-5af789850f81",
   "metadata": {},
   "outputs": [],
   "source": []
  }
 ],
 "metadata": {
  "kernelspec": {
   "display_name": "Python 3 (ipykernel)",
   "language": "python",
   "name": "python3"
  },
  "language_info": {
   "codemirror_mode": {
    "name": "ipython",
    "version": 3
   },
   "file_extension": ".py",
   "mimetype": "text/x-python",
   "name": "python",
   "nbconvert_exporter": "python",
   "pygments_lexer": "ipython3",
   "version": "3.12.4"
  }
 },
 "nbformat": 4,
 "nbformat_minor": 5
}
