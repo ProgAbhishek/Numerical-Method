{
 "cells": [
  {
   "cell_type": "code",
   "execution_count": 4,
   "id": "9149a847-e700-4349-b5f3-bbc734e6f4e8",
   "metadata": {},
   "outputs": [
    {
     "name": "stdout",
     "output_type": "stream",
     "text": [
      "\n",
      "Solution:\n",
      "x1 = -3.9613\n",
      "x2 = 0.5259\n",
      "x3 = 0.5149\n",
      "x4 = 6.5703\n"
     ]
    }
   ],
   "source": [
    "def gauss_elimination():\n",
    "    A = [\n",
    "        [0.02, 5.52, 2.07, 0.93, 10],\n",
    "        [8.49, 8.45, 5.44, 7.06, 20],\n",
    "        [77.89, 32.56, 40.67, 43.45, 15],\n",
    "        [9.22, 40.81, -143.45, 17.34, 25]\n",
    "    ]\n",
    "    n = len(A)\n",
    "\n",
    "    # Forward Elimination\n",
    "    for j in range(n):\n",
    "        if abs(A[j][j]) < 0.0005:\n",
    "            print(\"Error: Zero pivot encountered.\")\n",
    "            return\n",
    "\n",
    "        for i in range(j + 1, n):\n",
    "            if i > j:\n",
    "                r = A[i][j] / A[j][j]\n",
    "                for k in range(n + 1):\n",
    "                    A[i][k] = A[i][k] - r * A[j][k]\n",
    "\n",
    "    # Back Substitution\n",
    "    x = [0 for _ in range(n)]\n",
    "    x[n - 1] = A[n - 1][n] / A[n - 1][n - 1]\n",
    "\n",
    "    for i in range(n - 2, -1, -1):\n",
    "        sum_ = 0\n",
    "        for j in range(i + 1, n):\n",
    "            sum_ += A[i][j] * x[j]\n",
    "        x[i] = (A[i][n] - sum_) / A[i][i]\n",
    "\n",
    "    # Output result\n",
    "    print(\"\\nSolution:\")\n",
    "    for i in range(n):\n",
    "        print(f\"x{i + 1} = {x[i]:.4f}\")\n",
    "\n",
    "gauss_elimination()"
   ]
  },
  {
   "cell_type": "code",
   "execution_count": null,
   "id": "b83ab69e-b316-43d5-b3e4-641228e1d9d1",
   "metadata": {},
   "outputs": [],
   "source": []
  }
 ],
 "metadata": {
  "kernelspec": {
   "display_name": "Python 3 (ipykernel)",
   "language": "python",
   "name": "python3"
  },
  "language_info": {
   "codemirror_mode": {
    "name": "ipython",
    "version": 3
   },
   "file_extension": ".py",
   "mimetype": "text/x-python",
   "name": "python",
   "nbconvert_exporter": "python",
   "pygments_lexer": "ipython3",
   "version": "3.12.4"
  }
 },
 "nbformat": 4,
 "nbformat_minor": 5
}
