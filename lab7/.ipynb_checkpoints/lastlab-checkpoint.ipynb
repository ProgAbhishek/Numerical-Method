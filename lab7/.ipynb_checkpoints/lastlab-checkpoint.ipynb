{
 "cells": [
  {
   "cell_type": "code",
   "execution_count": 13,
   "id": "bcc271c0-6dd7-4e8e-9741-a5dd81873214",
   "metadata": {},
   "outputs": [
    {
     "name": "stdout",
     "output_type": "stream",
     "text": [
      "Trapezoidal: 3.0\n"
     ]
    }
   ],
   "source": [
    "import numpy as np\n",
    "\n",
    "def f(x):\n",
    "    return (4/(1+x**2))\n",
    "\n",
    "# Trapezoidal Rule\n",
    "def trapezoidal(a, b, n):\n",
    "    h = (b - a) / n\n",
    "    result = f(a) + f(b)\n",
    "    for i in range(1, n):\n",
    "        result += 2 * f(a + i * h)\n",
    "    return (h / 2) * result\n",
    "\n",
    "a = 0\n",
    "b = 1\n",
    "n = 1 \n",
    "\n",
    "print(\"Trapezoidal:\", trapezoidal(a, b, n))"
   ]
  },
  {
   "cell_type": "code",
   "execution_count": 25,
   "id": "572865fc-534b-4b60-a641-3d2c807629a0",
   "metadata": {},
   "outputs": [
    {
     "name": "stdout",
     "output_type": "stream",
     "text": [
      "Simpsons 1/3 : 3.1415686274509804\n"
     ]
    }
   ],
   "source": [
    "# Simpson's 1/3 Rule\n",
    "def simpsons_1_3(a, b, n):\n",
    "    if n % 2 != 0:\n",
    "        raise ValueError(\"n must be even\")\n",
    "    h = (b - a) / n\n",
    "    result = f(a) + f(b)\n",
    "    for i in range(1, n):\n",
    "        factor = 4 if i % 2 != 0 else 2\n",
    "        result += factor * f(a + i * h)\n",
    "    return (h / 3) * result\n",
    "\n",
    "a = 0\n",
    "b = 1\n",
    "n = 4 \n",
    "print(\"Simpsons 1/3 :\", simpsons_1_3(a, b, n))\n"
   ]
  },
  {
   "cell_type": "code",
   "execution_count": 26,
   "id": "23c4e3b6-c9ee-4ff6-81b6-2f1d6a1855cb",
   "metadata": {},
   "outputs": [
    {
     "name": "stdout",
     "output_type": "stream",
     "text": [
      "Simpsons 3/8 : 3.141592309288952\n"
     ]
    }
   ],
   "source": [
    "# Simpson's 3/8 Rule\n",
    "def simpsons_3_8(a, b, n):\n",
    "    if n % 3 != 0:\n",
    "        raise ValueError(\"n must be multiple of 3\")\n",
    "    h = (b - a) / n\n",
    "    result = f(a) + f(b)\n",
    "    for i in range(1, n):\n",
    "        factor = 3 if i % 3 != 0 else 2\n",
    "        result += factor * f(a + i * h)\n",
    "    return (3 * h / 8) * result\n",
    "\n",
    "a = 0\n",
    "b = 1\n",
    "n = 9\n",
    "print(\"Simpsons 3/8 :\", simpsons_3_8(a, b, n))"
   ]
  },
  {
   "cell_type": "code",
   "execution_count": 24,
   "id": "b2672040-cd38-4f98-b154-6235ee1bae1c",
   "metadata": {},
   "outputs": [
    {
     "name": "stdout",
     "output_type": "stream",
     "text": [
      "Weddles : 3.1415984458607413\n"
     ]
    }
   ],
   "source": [
    "# Weddle’s Rule\n",
    "def weddles_rule(a, b):\n",
    "    n = 6  # 6 intervals, 7 points\n",
    "    h = (b - a) / n\n",
    "    x = [a + i*h for i in range(7)]\n",
    "    coeffs = [1, 5, 1, 6, 1, 5, 1]\n",
    "    result = sum(coeffs[i] * f(x[i]) for i in range(7))\n",
    "    return (3*h/10) * result\n",
    "\n",
    "a = 0\n",
    "b = 1\n",
    "print(\"Weddles :\", weddles_rule(a, b))"
   ]
  },
  {
   "cell_type": "code",
   "execution_count": 20,
   "id": "95add80e-756f-4f0e-9056-8f19892b1221",
   "metadata": {},
   "outputs": [
    {
     "name": "stdout",
     "output_type": "stream",
     "text": [
      "gauss legendre 3 : 3.1410681399631675\n"
     ]
    }
   ],
   "source": [
    "# Gauss-Legendre 3-Point Quadrature\n",
    "def gauss_legendre_3(a, b):\n",
    "    # Nodes and weights for 3-point Gauss-Legendre\n",
    "    nodes = [-np.sqrt(3/5), 0, np.sqrt(3/5)]\n",
    "    weights = [5/9, 8/9, 5/9]\n",
    "    mid = (a + b) / 2\n",
    "    half_range = (b - a) / 2\n",
    "    result = 0\n",
    "    for i in range(3):\n",
    "        xi = mid + half_range * nodes[i]\n",
    "        result += weights[i] * f(xi)\n",
    "    return half_range * result\n",
    "\n",
    "a = 0\n",
    "b = 1\n",
    "n = 6\n",
    "print(\"gauss legendre 3 :\", gauss_legendre_3(a, b))"
   ]
  },
  {
   "cell_type": "code",
   "execution_count": null,
   "id": "0d4bc4e7-2d97-4807-8cab-078b36b86b2c",
   "metadata": {},
   "outputs": [],
   "source": []
  }
 ],
 "metadata": {
  "kernelspec": {
   "display_name": "Python 3 (ipykernel)",
   "language": "python",
   "name": "python3"
  },
  "language_info": {
   "codemirror_mode": {
    "name": "ipython",
    "version": 3
   },
   "file_extension": ".py",
   "mimetype": "text/x-python",
   "name": "python",
   "nbconvert_exporter": "python",
   "pygments_lexer": "ipython3",
   "version": "3.12.4"
  }
 },
 "nbformat": 4,
 "nbformat_minor": 5
}
